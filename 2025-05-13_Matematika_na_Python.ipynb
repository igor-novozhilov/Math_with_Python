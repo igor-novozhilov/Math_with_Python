{
 "cells": [
  {
   "cell_type": "markdown",
   "id": "a1f0ec74-cfba-4b73-8113-2854eeaa7152",
   "metadata": {},
   "source": [
    "2025-04-13 \"Математика на Python\"\n",
    "Криволапов С.Я., Хрипунова М.Б."
   ]
  },
  {
   "cell_type": "code",
   "execution_count": 25,
   "id": "4aa8c3c0-3d9e-4d1b-a71e-8fd9ff2c3dc5",
   "metadata": {},
   "outputs": [
    {
     "data": {
      "text/plain": [
       "2.718281828459045"
      ]
     },
     "execution_count": 25,
     "metadata": {},
     "output_type": "execute_result"
    }
   ],
   "source": [
    "# Глава I. Начало работы. Библиотеки и функции. (стр.8)\n",
    "import math\n",
    "math.e\n",
    "# Команды библиотеки math стр.16\n",
    "# Команды модуля cmath стр.17 (для комплексных чисел)"
   ]
  },
  {
   "cell_type": "code",
   "execution_count": 26,
   "id": "016d989c-8e7d-4cb2-bfd0-6d32e4aaf3b3",
   "metadata": {},
   "outputs": [
    {
     "data": {
      "text/plain": [
       "3.141592653589793"
      ]
     },
     "execution_count": 26,
     "metadata": {},
     "output_type": "execute_result"
    }
   ],
   "source": [
    "import math as m\n",
    "m.pi"
   ]
  },
  {
   "cell_type": "code",
   "execution_count": null,
   "id": "98229318-69cc-4f1e-a8bf-022313ca8648",
   "metadata": {},
   "outputs": [],
   "source": [
    "# Прописать библиотеки в резюме\n",
    "mathplotlib # для двумерной графики\n",
    "sympy # для символьных вычислений\n",
    "Numpy # для операций с матрицами, используется в машинном обучении\n",
    "SciPy # для научных вычислений\n",
    "Scikit-learn # для машинного обучения: классификация, регрессия, кластеризация"
   ]
  },
  {
   "cell_type": "markdown",
   "id": "a5d0d91d-17d6-4b72-a65d-10176313f46d",
   "metadata": {},
   "source": [
    "2025-05-14\n",
    "Раздел II. Решение задач на Python (стр.37)\n",
    "Глава 1. Математический анализ"
   ]
  },
  {
   "cell_type": "code",
   "execution_count": 2,
   "id": "008ffcc7-f0ad-4158-9953-81c80ed1ccd5",
   "metadata": {},
   "outputs": [
    {
     "name": "stdout",
     "output_type": "stream",
     "text": [
      "(3+6j)\n",
      "6.0\n",
      "3.0\n"
     ]
    }
   ],
   "source": [
    "# Комплексные числа\n",
    "from sympy import *\n",
    "import math as m\n",
    "x = complex(3, 6)\n",
    "print(x)\n",
    "print(x.imag) # мнимая часть\n",
    "print(x.real) # действительная часть"
   ]
  },
  {
   "cell_type": "code",
   "execution_count": 5,
   "id": "68bde402-97d6-4717-87f5-72b73abce045",
   "metadata": {},
   "outputs": [
    {
     "name": "stdout",
     "output_type": "stream",
     "text": [
      "3.141592653589793\n",
      "2.718281828459045\n"
     ]
    }
   ],
   "source": [
    "# Модуль cmath для работы с комплексными числами\n",
    "import cmath\n",
    "print(cmath.pi)\n",
    "print(cmath.e)"
   ]
  },
  {
   "cell_type": "code",
   "execution_count": 8,
   "id": "3ddcf9d0-bd48-4e96-97d0-8714645a7ca1",
   "metadata": {},
   "outputs": [
    {
     "name": "stdout",
     "output_type": "stream",
     "text": [
      "(5+5j)\n",
      "(1-2j)\n",
      "(10+0j)\n",
      "(2+4j)\n",
      "2j\n",
      "(7+11j)\n",
      "(5+5j) (1-2j) (10+0j) (2+4j) 2j (7+11j)\n"
     ]
    }
   ],
   "source": [
    "# Действия над комплекснми числами\n",
    "x = complex(1, 3) # x = 1 +3i\n",
    "y = complex(2, -1) # y = 2 - i\n",
    "z = x*y\n",
    "print(z)\n",
    "g = complex(1, -2)\n",
    "print(g)\n",
    "t = complex(10, 0)\n",
    "print(t)\n",
    "h = t / g\n",
    "print(h)\n",
    "p = complex(-1, -1)\n",
    "n = p*p\n",
    "print(n)\n",
    "C = z + h + n\n",
    "print(C)\n",
    "\n",
    "print(z, g, t, h, n, C)"
   ]
  },
  {
   "cell_type": "code",
   "execution_count": 9,
   "id": "fc6c065d-162b-4c30-82d9-05364f66f131",
   "metadata": {},
   "outputs": [
    {
     "name": "stdout",
     "output_type": "stream",
     "text": [
      "(-1+0j)\n"
     ]
    }
   ],
   "source": [
    "x = complex(0, 1)\n",
    "y = pow(x, 2) # возведение в квадрат\n",
    "print(y)"
   ]
  },
  {
   "cell_type": "code",
   "execution_count": 10,
   "id": "8a32844b-236b-4af1-8f08-c3820233dcf5",
   "metadata": {},
   "outputs": [
    {
     "name": "stdout",
     "output_type": "stream",
     "text": [
      "[1 - 2*I, 1 + 2*I]\n"
     ]
    }
   ],
   "source": [
    "#4 solve(f(x)) для решения квадратного уравнения с отрицательным дискриминантом (решение не единственное)\n",
    "import math as m\n",
    "from sympy import *\n",
    "x = Symbol(\"x\")\n",
    "print(solve(x**2-2*x+5))"
   ]
  },
  {
   "cell_type": "code",
   "execution_count": 11,
   "id": "29566fc9-5eea-4d91-9bbe-51ea417ec6aa",
   "metadata": {},
   "outputs": [
    {
     "name": "stdout",
     "output_type": "stream",
     "text": [
      "(-4+23j)\n"
     ]
    }
   ],
   "source": [
    "x = complex(1, -2)\n",
    "i = complex(0, 1)\n",
    "f = x**4 + (2 + i)/x - (-3 +2*i)\n",
    "print(f)"
   ]
  },
  {
   "cell_type": "code",
   "execution_count": 14,
   "id": "cd652f7f-2f17-4356-b813-50e45844dbb6",
   "metadata": {},
   "outputs": [
    {
     "name": "stdout",
     "output_type": "stream",
     "text": [
      "Matrix([[-0.0588235294117647 - 0.764705882352941*I], [1.82352941176471 + 1.70588235294118*I]])\n"
     ]
    }
   ],
   "source": [
    "#7 Решить систему уравнений (nsolve)\n",
    "from sympy import Symbol, nsolve\n",
    "import sympy\n",
    "import mpmath\n",
    "mpmath.mp.dpa = 1\n",
    "x = Symbol('x')\n",
    "y = Symbol('y')\n",
    "i = complex(0, 1)\n",
    "f1 = (2 + i)*x + y*(2 - i) - 6\n",
    "f2 = (2 - i)*x + (3 - 2*i)*y - 8\n",
    "print(nsolve((f1, f2), (x, y), (-1, 1)))"
   ]
  },
  {
   "cell_type": "code",
   "execution_count": 16,
   "id": "87c760e8-87e0-41b9-86ba-09b1067c9644",
   "metadata": {},
   "outputs": [
    {
     "name": "stdout",
     "output_type": "stream",
     "text": [
      "[0.8 - 0.4*I, 1.0 - 1.0*I]\n"
     ]
    }
   ],
   "source": [
    "#9 Решить  уравнение\n",
    "x = Symbol('x')\n",
    "i = complex(0, 1)\n",
    "print(solve((2 + i)*x**2 - (5-i)*x + 2 - 2*i))"
   ]
  },
  {
   "cell_type": "code",
   "execution_count": 20,
   "id": "61c8e901-2f45-4968-92aa-daa585a52fe1",
   "metadata": {},
   "outputs": [
    {
     "data": {
      "text/plain": [
       "60"
      ]
     },
     "execution_count": 20,
     "metadata": {},
     "output_type": "execute_result"
    }
   ],
   "source": [
    "#12\n",
    "import math\n",
    "z = complex(2, 2*sqrt(3))\n",
    "abs(z)\n",
    "cmath.phase(z)\n",
    "round(math.degrees(cmath.phase(z)))"
   ]
  },
  {
   "cell_type": "code",
   "execution_count": 23,
   "id": "2ae75897-abe3-4506-8c95-b01e7065e2d5",
   "metadata": {},
   "outputs": [
    {
     "name": "stdout",
     "output_type": "stream",
     "text": [
      "60\n",
      "3.9999999999999996\n"
     ]
    }
   ],
   "source": [
    "#2 Приведите число к тригонометрическому виду (это же периодические функции)\n",
    "import math\n",
    "import cmath\n",
    "z = 2 + 2*math.sqrt(3)*1j\n",
    "f1 = round(math.degrees(cmath.phase(z)))\n",
    "print(f1)\n",
    "r = abs(z)\n",
    "print(r)"
   ]
  },
  {
   "cell_type": "code",
   "execution_count": 24,
   "id": "80c6a596-db70-4c44-9910-4edcf4a590bc",
   "metadata": {},
   "outputs": [
    {
     "name": "stdout",
     "output_type": "stream",
     "text": [
      "(-472-214j)\n"
     ]
    }
   ],
   "source": [
    "# Значение многочлена в точке\n",
    "z = 6 + 5j\n",
    "p = (-5 + 6j)*(z*z) + (-4 + 6j)*z + (-3 + 4j)\n",
    "print(p)"
   ]
  },
  {
   "cell_type": "code",
   "execution_count": null,
   "id": "933de3f8-615a-4cf7-80b0-5d0bce1e934f",
   "metadata": {},
   "outputs": [],
   "source": []
  },
  {
   "cell_type": "code",
   "execution_count": null,
   "id": "70bc6994-c2b7-49c9-b4d9-53186dd5d6f9",
   "metadata": {},
   "outputs": [],
   "source": []
  },
  {
   "cell_type": "code",
   "execution_count": null,
   "id": "2f9835c3-5730-44c0-bc82-63a6cd202bf1",
   "metadata": {},
   "outputs": [],
   "source": []
  },
  {
   "cell_type": "code",
   "execution_count": null,
   "id": "8765f9d9-431e-4a48-aa62-abe3649fc9c7",
   "metadata": {},
   "outputs": [],
   "source": []
  },
  {
   "cell_type": "code",
   "execution_count": null,
   "id": "93e60149-c616-4835-85a9-f8ef37ae044b",
   "metadata": {},
   "outputs": [],
   "source": []
  },
  {
   "cell_type": "code",
   "execution_count": null,
   "id": "f2496295-388b-43e6-b30b-03ca5457ca1b",
   "metadata": {},
   "outputs": [],
   "source": []
  },
  {
   "cell_type": "code",
   "execution_count": null,
   "id": "e57d403f-74c6-4270-9135-19a089787192",
   "metadata": {},
   "outputs": [],
   "source": []
  },
  {
   "cell_type": "code",
   "execution_count": null,
   "id": "7d73c604-da02-4c21-ac43-263ba80e0545",
   "metadata": {},
   "outputs": [],
   "source": []
  },
  {
   "cell_type": "code",
   "execution_count": null,
   "id": "2e9433e5-8254-4cc3-bfb6-59d19c437e65",
   "metadata": {},
   "outputs": [],
   "source": []
  },
  {
   "cell_type": "code",
   "execution_count": null,
   "id": "e33de41f-5717-4701-b445-cc826a885f51",
   "metadata": {},
   "outputs": [],
   "source": []
  },
  {
   "cell_type": "code",
   "execution_count": null,
   "id": "5aaacec4-0d57-471d-a1f7-b517b62160a3",
   "metadata": {},
   "outputs": [],
   "source": []
  },
  {
   "cell_type": "code",
   "execution_count": null,
   "id": "365be887-269c-4f1d-a73f-364176ccbb74",
   "metadata": {},
   "outputs": [],
   "source": []
  },
  {
   "cell_type": "code",
   "execution_count": null,
   "id": "6c90b5e4-cc51-46a2-8df7-e6d273c0a492",
   "metadata": {},
   "outputs": [],
   "source": []
  }
 ],
 "metadata": {
  "kernelspec": {
   "display_name": "Python 3 (ipykernel)",
   "language": "python",
   "name": "python3"
  },
  "language_info": {
   "codemirror_mode": {
    "name": "ipython",
    "version": 3
   },
   "file_extension": ".py",
   "mimetype": "text/x-python",
   "name": "python",
   "nbconvert_exporter": "python",
   "pygments_lexer": "ipython3",
   "version": "3.12.7"
  }
 },
 "nbformat": 4,
 "nbformat_minor": 5
}

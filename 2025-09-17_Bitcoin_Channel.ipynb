{
 "cells": [
  {
   "cell_type": "markdown",
   "id": "f22dcb96-fa3e-4120-9865-b519f2883e4b",
   "metadata": {},
   "source": [
    "# 2025-09-17 Bitcoin Price Channel"
   ]
  },
  {
   "cell_type": "code",
   "execution_count": 1,
   "id": "90192480-9694-4a0d-b150-ccb2f63cd433",
   "metadata": {},
   "outputs": [],
   "source": [
    "# ИСХОДНЫЕ ДАННЫЕ ---------------------------------------------- 2025.09.17\n",
    "# Загрузка библиотек\n",
    "import numpy as np\n",
    "import pandas as pd"
   ]
  },
  {
   "cell_type": "code",
   "execution_count": 7,
   "id": "dd230dac-41b8-4feb-9d65-915cf0db44b2",
   "metadata": {},
   "outputs": [
    {
     "name": "stdout",
     "output_type": "stream",
     "text": [
      "[    1     2     3 ... 11498 11499 11500]\n"
     ]
    }
   ],
   "source": [
    "# РЕГРЕССИИ  -------------------------------------------------- 2025.09.17\n",
    "x = np.arange(1, 11501)\n",
    "print(x)"
   ]
  },
  {
   "cell_type": "code",
   "execution_count": 11,
   "id": "4a2ce6f1-7b74-43bc-ac4c-15a72c453c21",
   "metadata": {},
   "outputs": [],
   "source": [
    "# Загрузка исходных данных из csv-файлов ------------------------2025.09.27\n",
    "Data1 = pd.read_csv('C:/Users/reactor/YandexDisk-power-fitness.ru/2025 Python/bitcoin/Прошлые данные - Биткоин.csv')\n",
    "Data2 = pd.read_csv('C:/Users/reactor/YandexDisk-power-fitness.ru/2025 Python/bitcoin/bitcoin_price_2010_2024.csv')\n",
    "Data3 = pd.read_csv('C:/Users/reactor/YandexDisk-power-fitness.ru/2025 Python/bitcoin/bitcoin_price_2009_2010_improved.csv')\n",
    "halvings = pd.ExcelFile('C:/Users/reactor/YandexDisk-power-fitness.ru/2025 Python/bitcoin/2023-09-19 halvings.xlsx')"
   ]
  },
  {
   "cell_type": "code",
   "execution_count": 16,
   "id": "c29e3188-0deb-4d82-857a-45de4277f19b",
   "metadata": {},
   "outputs": [
    {
     "name": "stdout",
     "output_type": "stream",
     "text": [
      "           Дата       Цена      Откр.      Макс.       Мин.   Объём  Изм. %\n",
      "0    27.09.2025  109.237,5  109.662,2  109.734,3  109.090,8  30,07K  -0,39%\n",
      "1    26.09.2025  109.662,2  109.012,4  110.299,1  108.673,0  54,26K   0,59%\n",
      "2    25.09.2025  109.016,3  113.307,1  113.508,6  108.675,3  69,14K  -3,79%\n",
      "3    24.09.2025  113.307,1  112.002,9  113.951,0  111.212,0  43,29K   1,16%\n",
      "4    23.09.2025  112.002,6  112.673,0  113.279,9  111.501,9  44,21K  -0,60%\n",
      "..          ...        ...        ...        ...        ...     ...     ...\n",
      "265  05.01.2025   98.347,7   98.220,1   98.823,1   97.300,0  31,34K   0,13%\n",
      "266  04.01.2025   98.219,9   98.168,9   98.742,6   97.568,9  36,56K   0,05%\n",
      "267  03.01.2025   98.167,5   96.960,2   98.963,3   96.090,6  61,62K   1,25%\n",
      "268  02.01.2025   96.960,0   94.561,1   97.808,0   94.381,2  76,13K   2,54%\n",
      "269  01.01.2025   94.560,2   93.557,3   95.100,0   92.939,3  43,34K   1,07%\n",
      "\n",
      "[270 rows x 7 columns]\n"
     ]
    }
   ],
   "source": [
    "print(Data1)"
   ]
  },
  {
   "cell_type": "code",
   "execution_count": 17,
   "id": "0a80335c-ec46-448e-bec0-5d0337f820ec",
   "metadata": {},
   "outputs": [
    {
     "name": "stdout",
     "output_type": "stream",
     "text": [
      "            Дата      Цена     Откр.     Макс.      Мин.    Объём  Изм. %\n",
      "0     31.12.2024  93.557,2  92.777,2  96.163,4  92.036,2   74,85K   0,84%\n",
      "1     30.12.2024  92.779,8  93.718,7  94.936,4  91.522,3  112,43K  -1,00%\n",
      "2     29.12.2024  93.716,3  95.282,6  95.315,4  93.026,7   47,71K  -1,65%\n",
      "3     28.12.2024  95.284,5  94.274,9  95.684,3  94.124,7   32,97K   1,07%\n",
      "4     27.12.2024  94.275,9  95.776,4  97.243,3  93.472,8   85,12K  -1,57%\n",
      "...          ...       ...       ...       ...       ...      ...     ...\n",
      "5276  22.07.2010       0,1       0,1       0,1       0,1    2,16K   0,00%\n",
      "5277  21.07.2010       0,1       0,1       0,1       0,1    0,58K   0,00%\n",
      "5278  20.07.2010       0,1       0,1       0,1       0,1    0,26K   0,00%\n",
      "5279  19.07.2010       0,1       0,1       0,1       0,1    0,57K   0,00%\n",
      "5280  18.07.2010       0,1       0,0       0,1       0,1    0,08K   0,00%\n",
      "\n",
      "[5281 rows x 7 columns]\n"
     ]
    }
   ],
   "source": [
    "print(Data2)"
   ]
  },
  {
   "cell_type": "code",
   "execution_count": 18,
   "id": "6f91a444-ab3c-48e7-89ba-9bb7b3ada9f8",
   "metadata": {},
   "outputs": [
    {
     "name": "stdout",
     "output_type": "stream",
     "text": [
      "              Date;Price\n",
      "03.01.2009;0         1.0\n",
      "04.01.2009;0         1.0\n",
      "05.01.2009;0         1.0\n",
      "06.01.2009;0         1.0\n",
      "07.01.2009;0         1.0\n",
      "...                  ...\n",
      "13.07.2010;0         1.0\n",
      "14.07.2010;0         1.0\n",
      "15.07.2010;0         1.0\n",
      "16.07.2010;0         1.0\n",
      "17.07.2010;0         1.0\n",
      "\n",
      "[561 rows x 1 columns]\n"
     ]
    }
   ],
   "source": [
    "print(Data3)"
   ]
  },
  {
   "cell_type": "code",
   "execution_count": null,
   "id": "5f811d6b-14cc-42dc-908e-94bda6aa7bf6",
   "metadata": {},
   "outputs": [],
   "source": []
  },
  {
   "cell_type": "code",
   "execution_count": null,
   "id": "fc003652-47dc-4b5e-822d-1cd700776225",
   "metadata": {},
   "outputs": [],
   "source": []
  }
 ],
 "metadata": {
  "kernelspec": {
   "display_name": "Python 3 (ipykernel)",
   "language": "python",
   "name": "python3"
  },
  "language_info": {
   "codemirror_mode": {
    "name": "ipython",
    "version": 3
   },
   "file_extension": ".py",
   "mimetype": "text/x-python",
   "name": "python",
   "nbconvert_exporter": "python",
   "pygments_lexer": "ipython3",
   "version": "3.12.7"
  }
 },
 "nbformat": 4,
 "nbformat_minor": 5
}

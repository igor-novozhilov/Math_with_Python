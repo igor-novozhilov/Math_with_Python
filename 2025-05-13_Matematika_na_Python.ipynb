{
 "cells": [
  {
   "cell_type": "markdown",
   "id": "a1f0ec74-cfba-4b73-8113-2854eeaa7152",
   "metadata": {},
   "source": [
    "# 2025-04-13 \"Математика на Python\"\n",
    "# Криволапов С.Я., Хрипунова М.Б.\n",
    "## Глава I. Начало работы. Библиотеки и функции. (стр.8)"
   ]
  },
  {
   "cell_type": "code",
   "execution_count": 3,
   "id": "4aa8c3c0-3d9e-4d1b-a71e-8fd9ff2c3dc5",
   "metadata": {},
   "outputs": [
    {
     "data": {
      "text/plain": [
       "2.718281828459045"
      ]
     },
     "execution_count": 3,
     "metadata": {},
     "output_type": "execute_result"
    }
   ],
   "source": [
    "# Глава I. Начало работы. Библиотеки и функции. (стр.8)\n",
    "import math\n",
    "math.e\n",
    "# Команды библиотеки math стр.16\n",
    "# Команды модуля cmath стр.17 (для комплексных чисел)"
   ]
  },
  {
   "cell_type": "code",
   "execution_count": 4,
   "id": "016d989c-8e7d-4cb2-bfd0-6d32e4aaf3b3",
   "metadata": {},
   "outputs": [
    {
     "data": {
      "text/plain": [
       "3.141592653589793"
      ]
     },
     "execution_count": 4,
     "metadata": {},
     "output_type": "execute_result"
    }
   ],
   "source": [
    "import math as m\n",
    "m.pi"
   ]
  },
  {
   "cell_type": "markdown",
   "id": "c422beef-68ad-487b-9f48-00b2191ff11b",
   "metadata": {},
   "source": [
    "# Прописать библиотеки в резюме\n",
    "\n",
    "mathplotlib # для двумерной графики\n",
    "\n",
    "sympy # для символьных вычислений\n",
    "\n",
    "Numpy # для операций с матрицами, используется в машинном обучении\n",
    "\n",
    "SciPy # для научных вычислений\n",
    "\n",
    "Scikit-learn # для машинного обучения: классификация, регрессия, кластеризация"
   ]
  },
  {
   "cell_type": "markdown",
   "id": "a5d0d91d-17d6-4b72-a65d-10176313f46d",
   "metadata": {},
   "source": [
    "2025-05-14\n",
    "## Раздел II. Решение задач на Python (стр.37)\n",
    "### Глава 1. Математический анализ\n",
    "#### 1. Комплексные числа"
   ]
  },
  {
   "cell_type": "code",
   "execution_count": 5,
   "id": "008ffcc7-f0ad-4158-9953-81c80ed1ccd5",
   "metadata": {},
   "outputs": [
    {
     "name": "stdout",
     "output_type": "stream",
     "text": [
      "(3+6j)\n",
      "6.0\n",
      "3.0\n"
     ]
    }
   ],
   "source": [
    "# Комплексные числа\n",
    "from sympy import *\n",
    "import math as m\n",
    "x = complex(3, 6)\n",
    "print(x)\n",
    "print(x.imag) # мнимая часть\n",
    "print(x.real) # действительная часть"
   ]
  },
  {
   "cell_type": "code",
   "execution_count": 6,
   "id": "68bde402-97d6-4717-87f5-72b73abce045",
   "metadata": {},
   "outputs": [
    {
     "name": "stdout",
     "output_type": "stream",
     "text": [
      "3.141592653589793\n",
      "2.718281828459045\n"
     ]
    }
   ],
   "source": [
    "# Модуль cmath для работы с комплексными числами\n",
    "import cmath\n",
    "print(cmath.pi)\n",
    "print(cmath.e)"
   ]
  },
  {
   "cell_type": "code",
   "execution_count": 7,
   "id": "3ddcf9d0-bd48-4e96-97d0-8714645a7ca1",
   "metadata": {},
   "outputs": [
    {
     "name": "stdout",
     "output_type": "stream",
     "text": [
      "(5+5j)\n",
      "(1-2j)\n",
      "(10+0j)\n",
      "(2+4j)\n",
      "2j\n",
      "(7+11j)\n",
      "(5+5j) (1-2j) (10+0j) (2+4j) 2j (7+11j)\n"
     ]
    }
   ],
   "source": [
    "# Действия над комплекснми числами\n",
    "x = complex(1, 3) # x = 1 +3i\n",
    "y = complex(2, -1) # y = 2 - i\n",
    "z = x*y\n",
    "print(z)\n",
    "g = complex(1, -2)\n",
    "print(g)\n",
    "t = complex(10, 0)\n",
    "print(t)\n",
    "h = t / g\n",
    "print(h)\n",
    "p = complex(-1, -1)\n",
    "n = p*p\n",
    "print(n)\n",
    "C = z + h + n\n",
    "print(C)\n",
    "\n",
    "print(z, g, t, h, n, C)"
   ]
  },
  {
   "cell_type": "code",
   "execution_count": 8,
   "id": "fc6c065d-162b-4c30-82d9-05364f66f131",
   "metadata": {},
   "outputs": [
    {
     "name": "stdout",
     "output_type": "stream",
     "text": [
      "(-1+0j)\n"
     ]
    }
   ],
   "source": [
    "x = complex(0, 1)\n",
    "y = pow(x, 2) # возведение в квадрат\n",
    "print(y)"
   ]
  },
  {
   "cell_type": "code",
   "execution_count": 9,
   "id": "8a32844b-236b-4af1-8f08-c3820233dcf5",
   "metadata": {},
   "outputs": [
    {
     "name": "stdout",
     "output_type": "stream",
     "text": [
      "[1 - 2*I, 1 + 2*I]\n"
     ]
    }
   ],
   "source": [
    "#4 solve(f(x)) для решения квадратного уравнения с отрицательным дискриминантом (решение не единственное)\n",
    "import math as m\n",
    "from sympy import *\n",
    "x = Symbol(\"x\")\n",
    "print(solve(x**2-2*x+5))"
   ]
  },
  {
   "cell_type": "code",
   "execution_count": 10,
   "id": "29566fc9-5eea-4d91-9bbe-51ea417ec6aa",
   "metadata": {},
   "outputs": [
    {
     "name": "stdout",
     "output_type": "stream",
     "text": [
      "(-4+23j)\n"
     ]
    }
   ],
   "source": [
    "x = complex(1, -2)\n",
    "i = complex(0, 1)\n",
    "f = x**4 + (2 + i)/x - (-3 +2*i)\n",
    "print(f)"
   ]
  },
  {
   "cell_type": "code",
   "execution_count": 11,
   "id": "cd652f7f-2f17-4356-b813-50e45844dbb6",
   "metadata": {},
   "outputs": [
    {
     "name": "stdout",
     "output_type": "stream",
     "text": [
      "Matrix([[-0.0588235294117647 - 0.764705882352941*I], [1.82352941176471 + 1.70588235294118*I]])\n"
     ]
    }
   ],
   "source": [
    "#7 Решить систему уравнений (nsolve)\n",
    "from sympy import Symbol, nsolve\n",
    "import sympy\n",
    "import mpmath\n",
    "mpmath.mp.dpa = 1\n",
    "x = Symbol('x')\n",
    "y = Symbol('y')\n",
    "i = complex(0, 1)\n",
    "f1 = (2 + i)*x + y*(2 - i) - 6\n",
    "f2 = (2 - i)*x + (3 - 2*i)*y - 8\n",
    "print(nsolve((f1, f2), (x, y), (-1, 1)))"
   ]
  },
  {
   "cell_type": "code",
   "execution_count": 12,
   "id": "87c760e8-87e0-41b9-86ba-09b1067c9644",
   "metadata": {},
   "outputs": [
    {
     "name": "stdout",
     "output_type": "stream",
     "text": [
      "[0.8 - 0.4*I, 1.0 - 1.0*I]\n"
     ]
    }
   ],
   "source": [
    "#9 Решить  уравнение\n",
    "x = Symbol('x')\n",
    "i = complex(0, 1)\n",
    "print(solve((2 + i)*x**2 - (5-i)*x + 2 - 2*i))"
   ]
  },
  {
   "cell_type": "code",
   "execution_count": 13,
   "id": "61c8e901-2f45-4968-92aa-daa585a52fe1",
   "metadata": {},
   "outputs": [
    {
     "data": {
      "text/plain": [
       "60"
      ]
     },
     "execution_count": 13,
     "metadata": {},
     "output_type": "execute_result"
    }
   ],
   "source": [
    "#12\n",
    "import math\n",
    "z = complex(2, 2*sqrt(3))\n",
    "abs(z)\n",
    "cmath.phase(z)\n",
    "round(math.degrees(cmath.phase(z)))"
   ]
  },
  {
   "cell_type": "code",
   "execution_count": 14,
   "id": "2ae75897-abe3-4506-8c95-b01e7065e2d5",
   "metadata": {},
   "outputs": [
    {
     "name": "stdout",
     "output_type": "stream",
     "text": [
      "60\n",
      "3.9999999999999996\n"
     ]
    }
   ],
   "source": [
    "#2 Приведите число к тригонометрическому виду (это же периодические функции)\n",
    "import math\n",
    "import cmath\n",
    "z = 2 + 2*math.sqrt(3)*1j\n",
    "f1 = round(math.degrees(cmath.phase(z)))\n",
    "print(f1)\n",
    "r = abs(z)\n",
    "print(r)"
   ]
  },
  {
   "cell_type": "code",
   "execution_count": 15,
   "id": "80c6a596-db70-4c44-9910-4edcf4a590bc",
   "metadata": {},
   "outputs": [
    {
     "name": "stdout",
     "output_type": "stream",
     "text": [
      "(-472-214j)\n"
     ]
    }
   ],
   "source": [
    "# Значение многочлена в точке\n",
    "z = 6 + 5j\n",
    "p = (-5 + 6j)*(z*z) + (-4 + 6j)*z + (-3 + 4j)\n",
    "print(p)"
   ]
  },
  {
   "cell_type": "markdown",
   "id": "20124b1d-9b7c-44bb-93dd-1ac66b5d0cd3",
   "metadata": {},
   "source": [
    "2025-05-15\n",
    "## Раздел II. Решение задач на Python\n",
    "### Глава 1. Математический анализ\n",
    "#### 2. Предел. Непрерывность (стр.64)\n",
    "##### Section II. Solving problems in Python Chapter 1. Mathematical Analysis 2. The limits. Continuity (page64)"
   ]
  },
  {
   "cell_type": "code",
   "execution_count": 16,
   "id": "70bc6994-c2b7-49c9-b4d9-53186dd5d6f9",
   "metadata": {},
   "outputs": [
    {
     "data": {
      "text/latex": [
       "$\\displaystyle 2$"
      ],
      "text/plain": [
       "2"
      ]
     },
     "execution_count": 16,
     "metadata": {},
     "output_type": "execute_result"
    }
   ],
   "source": [
    "from sympy import *\n",
    "x = Symbol(\"x\")\n",
    "limit((6*x**2 + 3*x)/(3*x**2), x, oo)"
   ]
  },
  {
   "cell_type": "code",
   "execution_count": 17,
   "id": "2f9835c3-5730-44c0-bc82-63a6cd202bf1",
   "metadata": {},
   "outputs": [
    {
     "data": {
      "text/latex": [
       "$\\displaystyle 1$"
      ],
      "text/plain": [
       "1"
      ]
     },
     "execution_count": 17,
     "metadata": {},
     "output_type": "execute_result"
    }
   ],
   "source": [
    "limit(sin(x)/x, x, 0)"
   ]
  },
  {
   "cell_type": "code",
   "execution_count": 18,
   "id": "8765f9d9-431e-4a48-aa62-abe3649fc9c7",
   "metadata": {},
   "outputs": [
    {
     "data": {
      "text/latex": [
       "$\\displaystyle -\\infty$"
      ],
      "text/plain": [
       "-oo"
      ]
     },
     "execution_count": 18,
     "metadata": {},
     "output_type": "execute_result"
    }
   ],
   "source": [
    "# односторонние пределы\n",
    "# unilateral limits\n",
    "limit(1/x, x, 0, '-') # limit(1/x, x, 0, dir='-') левосторонний"
   ]
  },
  {
   "cell_type": "code",
   "execution_count": 19,
   "id": "93e60149-c616-4835-85a9-f8ef37ae044b",
   "metadata": {},
   "outputs": [
    {
     "data": {
      "text/latex": [
       "$\\displaystyle \\infty$"
      ],
      "text/plain": [
       "oo"
      ]
     },
     "execution_count": 19,
     "metadata": {},
     "output_type": "execute_result"
    }
   ],
   "source": [
    "# Левочторонний и правосторонний\n",
    "limit((2*x - 1)/(x**2 - 3*x), x, 3, '+')"
   ]
  },
  {
   "cell_type": "code",
   "execution_count": 20,
   "id": "f2496295-388b-43e6-b30b-03ca5457ca1b",
   "metadata": {},
   "outputs": [
    {
     "data": {
      "text/latex": [
       "$\\displaystyle -\\infty$"
      ],
      "text/plain": [
       "-oo"
      ]
     },
     "execution_count": 20,
     "metadata": {},
     "output_type": "execute_result"
    }
   ],
   "source": [
    "limit((2*x - 1)/(x**2 - 3*x), x, 3, '-')"
   ]
  },
  {
   "cell_type": "code",
   "execution_count": 21,
   "id": "e57d403f-74c6-4270-9135-19a089787192",
   "metadata": {},
   "outputs": [
    {
     "name": "stdout",
     "output_type": "stream",
     "text": [
      "[0, 2, 7]\n"
     ]
    },
    {
     "data": {
      "text/latex": [
       "$\\displaystyle \\infty$"
      ],
      "text/plain": [
       "oo"
      ]
     },
     "execution_count": 21,
     "metadata": {},
     "output_type": "execute_result"
    }
   ],
   "source": [
    "# Односторонние пределы используются при решении задач на исследование типов точек разрыва функции\n",
    "\"Найти точки разрыва и определить их типы\"\n",
    "from sympy import *\n",
    "x = Symbol(\"x\")\n",
    "print(solve(x**3 - 9*x**2 +14*x))\n",
    "limit(abs((x-2)*(x-7) / (x**3 - 9*x**2 +14*x)), x, 0, '-')\n",
    "limit(abs((x-2)*(x-7) / (x**3 - 9*x**2 +14*x)), x, 0, '+')"
   ]
  },
  {
   "cell_type": "code",
   "execution_count": 22,
   "id": "7d73c604-da02-4c21-ac43-263ba80e0545",
   "metadata": {},
   "outputs": [
    {
     "data": {
      "text/latex": [
       "$\\displaystyle \\frac{1}{2}$"
      ],
      "text/plain": [
       "1/2"
      ]
     },
     "execution_count": 22,
     "metadata": {},
     "output_type": "execute_result"
    }
   ],
   "source": [
    "limit(abs((x-2)*(x-7) / (x**3 - 9*x**2 +14*x)), x, 2, '-')"
   ]
  },
  {
   "cell_type": "code",
   "execution_count": 23,
   "id": "2e9433e5-8254-4cc3-bfb6-59d19c437e65",
   "metadata": {},
   "outputs": [
    {
     "data": {
      "text/latex": [
       "$\\displaystyle \\frac{1}{2}$"
      ],
      "text/plain": [
       "1/2"
      ]
     },
     "execution_count": 23,
     "metadata": {},
     "output_type": "execute_result"
    }
   ],
   "source": [
    "limit(abs((x-2)*(x-7) / (x**3 - 9*x**2 +14*x)), x, 2, '+')"
   ]
  },
  {
   "cell_type": "code",
   "execution_count": 24,
   "id": "e33de41f-5717-4701-b445-cc826a885f51",
   "metadata": {},
   "outputs": [
    {
     "data": {
      "text/latex": [
       "$\\displaystyle \\frac{1}{7}$"
      ],
      "text/plain": [
       "1/7"
      ]
     },
     "execution_count": 24,
     "metadata": {},
     "output_type": "execute_result"
    }
   ],
   "source": [
    "limit(abs((x-2)*(x-7) / (x**3 - 9*x**2 +14*x)), x, 7, '-')"
   ]
  },
  {
   "cell_type": "code",
   "execution_count": 25,
   "id": "5aaacec4-0d57-471d-a1f7-b517b62160a3",
   "metadata": {},
   "outputs": [
    {
     "data": {
      "text/latex": [
       "$\\displaystyle \\frac{1}{7}$"
      ],
      "text/plain": [
       "1/7"
      ]
     },
     "execution_count": 25,
     "metadata": {},
     "output_type": "execute_result"
    }
   ],
   "source": [
    "limit(abs((x-2)*(x-7) / (x**3 - 9*x**2 +14*x)), x, 7, '+')"
   ]
  },
  {
   "cell_type": "code",
   "execution_count": 26,
   "id": "2d3d177d-2dab-42d8-858d-4683e3012a3b",
   "metadata": {},
   "outputs": [
    {
     "name": "stdout",
     "output_type": "stream",
     "text": [
      "k= 0\n",
      "b= 5\n"
     ]
    }
   ],
   "source": [
    "# Найти асимптоты графика функции\n",
    "\"Сначала найдём наклонные асимптоты y=kx+b\"\n",
    "k = limit((1+5*x) / (3+x) /x, x, oo)\n",
    "print('k=', k)\n",
    "b = limit((1+5*x) / (3+x) -k*x, x, oo)\n",
    "print('b=', b)"
   ]
  },
  {
   "cell_type": "code",
   "execution_count": 27,
   "id": "38dd4bd9-759d-49de-983e-62eafcb9109d",
   "metadata": {},
   "outputs": [
    {
     "data": {
      "text/plain": [
       "[-3]"
      ]
     },
     "execution_count": 27,
     "metadata": {},
     "output_type": "execute_result"
    }
   ],
   "source": [
    "\"\"\"Потом вертикальные асимптоты. \n",
    "Для чего приравняем знаменатель к 0 и найдём левосторонний и правосторонний пределы \n",
    "при переменной, стремящейся к 0 знаменателя\"\"\"\n",
    "solve(3+x)"
   ]
  },
  {
   "cell_type": "code",
   "execution_count": 28,
   "id": "1a2f1032-241a-43d7-bb26-8dd5fa9efaa3",
   "metadata": {},
   "outputs": [
    {
     "data": {
      "text/latex": [
       "$\\displaystyle \\infty$"
      ],
      "text/plain": [
       "oo"
      ]
     },
     "execution_count": 28,
     "metadata": {},
     "output_type": "execute_result"
    }
   ],
   "source": [
    "limit((1+5*x) / (3+x), x, -3, '-')"
   ]
  },
  {
   "cell_type": "code",
   "execution_count": 29,
   "id": "025fca5d-8b68-40ec-8a69-bd6d42deb983",
   "metadata": {},
   "outputs": [
    {
     "data": {
      "text/latex": [
       "$\\displaystyle -\\infty$"
      ],
      "text/plain": [
       "-oo"
      ]
     },
     "execution_count": 29,
     "metadata": {},
     "output_type": "execute_result"
    }
   ],
   "source": [
    "limit((1+5*x) / (3+x), x, -3, '+')"
   ]
  },
  {
   "cell_type": "code",
   "execution_count": 30,
   "id": "882c2eca-df08-4c10-b052-b4f5f053663a",
   "metadata": {},
   "outputs": [
    {
     "data": {
      "text/plain": [
       "'Ответ: 5 горизонтальная асимптота, -3 вертикальная'"
      ]
     },
     "execution_count": 30,
     "metadata": {},
     "output_type": "execute_result"
    }
   ],
   "source": [
    "\"Ответ: 5 горизонтальная асимптота, -3 вертикальная\""
   ]
  },
  {
   "cell_type": "markdown",
   "id": "5cb05048-fefb-46bf-9437-930bc7e5f10c",
   "metadata": {},
   "source": [
    "#### Ряды"
   ]
  },
  {
   "cell_type": "markdown",
   "id": "8c8b71a9-e621-4b6c-85ab-d74571c2af01",
   "metadata": {},
   "source": [
    "Числовые и функциональные ряды являются мощным инструментом теории приближений.\n",
    "Пределы можно использовать для решения задач с числовыми и функциональными рядами.\n",
    "\n",
    "Если существует предел суммы ряда, то он сходящийся. Если не существует предела, то ряд расходящийся\n",
    "Если все члены ряда неотрицательные числа, то ряд положительный.\n",
    "Теорема: чтобы ряд сходился, необходимо, чтобы по ледовательность частичных сумм ряда была ограничена сверху.\n",
    "\n",
    "Признак Даламбера\n",
    "Интегральный признак Коши\n",
    "Знакочередующийся ряд      # сопоставить с циклическими функциями\n",
    "Теорема Лейбница (о сходимости знакочередующегося ряда) [! идея по данным с BTC$Price/Reg_Price смотри мою заметку в книге стр.69]\n",
    "Условно и абсолютно сходящиеся ряды\n",
    "\n",
    "\n",
    "Ряд с комплексными числами\n",
    "Функциональные ряды\n",
    "Точка сходимости функционального ряда и точка расходимости\n",
    "Область сходимости ф.р.\n",
    "Степенной ряд\n",
    "Теорема Абеля\n",
    "Радиус сходимости степенного ряда R\n",
    "Интервал сходимости степенного ряда (-R, R)\n",
    "Область сходимости степенного ряда [-R, R], [-R, R), (-R, R]\n",
    "Функция разлагается в степенной ряд (и это разложение единственно)\n",
    "Ряд Тейлора (чтобы ряд Тейлора сходился к функции f(x) необходимо и достаточно, чтобы остаточный член r_n(x) \n",
    "в каждой точке интервала сходимости стремился к 0 при n->oo)\n",
    "Ряд МакЛорена"
   ]
  },
  {
   "cell_type": "code",
   "execution_count": 31,
   "id": "072280c0-3c53-4caf-8126-dc1d2bbb8a07",
   "metadata": {},
   "outputs": [
    {
     "data": {
      "text/latex": [
       "$\\displaystyle \\infty$"
      ],
      "text/plain": [
       "oo"
      ]
     },
     "execution_count": 31,
     "metadata": {},
     "output_type": "execute_result"
    }
   ],
   "source": [
    "#7 Найдём радиус и интервал сходимости степенного ряда\n",
    "from sympy import *\n",
    "import math as m\n",
    "x = symbols('x')\n",
    "limit(1/factorial(x) / (1/factorial(x+1)), x, oo)"
   ]
  },
  {
   "cell_type": "code",
   "execution_count": 32,
   "id": "6cc6763f-365a-41ec-84e4-1d6e3491afcd",
   "metadata": {},
   "outputs": [
    {
     "data": {
      "text/plain": [
       "'R=oo значит ряд сходится при всех х, т.е. от -оо до +оо. Из сходимости ряда вытекает предел=0 при всех х'"
      ]
     },
     "execution_count": 32,
     "metadata": {},
     "output_type": "execute_result"
    }
   ],
   "source": [
    "\"R=oo значит ряд сходится при всех х, т.е. от -оо до +оо. Из сходимости ряда вытекает предел=0 при всех х\""
   ]
  },
  {
   "cell_type": "code",
   "execution_count": 33,
   "id": "ec35dbe8-1f8a-40a3-89f0-9c5b2a7b790a",
   "metadata": {},
   "outputs": [
    {
     "name": "stdout",
     "output_type": "stream",
     "text": [
      "x - x**3/6 + x**5/120 - x**7/5040 + x**9/362880 + O(x**10)\n"
     ]
    }
   ],
   "source": [
    "#9 Разложим в ряд МакЛорена функции sinX cosX expX arcsinX\n",
    "import sympy\n",
    "x = sympy.symbols('x')\n",
    "func = sin(x)\n",
    "x0 = 0\n",
    "print((func).series(x, x0, 10))"
   ]
  },
  {
   "cell_type": "code",
   "execution_count": 34,
   "id": "e03209f7-7667-4021-ae66-a349ac92744c",
   "metadata": {},
   "outputs": [
    {
     "name": "stdout",
     "output_type": "stream",
     "text": [
      "1 - x**2/2 + x**4/24 - x**6/720 + x**8/40320 + O(x**10)\n"
     ]
    }
   ],
   "source": [
    "import sympy\n",
    "x = sympy.symbols('x')\n",
    "func = cos(x)\n",
    "x0 = 0\n",
    "print((func).series(x, x0, 10))"
   ]
  },
  {
   "cell_type": "code",
   "execution_count": 35,
   "id": "056508bd-1e3d-43ed-8db6-7041d6cae6ef",
   "metadata": {},
   "outputs": [
    {
     "name": "stdout",
     "output_type": "stream",
     "text": [
      "1 + x + x**2/2 + x**3/6 + x**4/24 + x**5/120 + x**6/720 + x**7/5040 + x**8/40320 + x**9/362880 + O(x**10)\n"
     ]
    }
   ],
   "source": [
    "import sympy\n",
    "x = sympy.symbols('x')\n",
    "func = exp(x)\n",
    "x0 = 0\n",
    "print((func).series(x, x0, 10))"
   ]
  },
  {
   "cell_type": "code",
   "execution_count": 36,
   "id": "2a846a74-c53f-4b52-86b1-9f38ddc8148d",
   "metadata": {},
   "outputs": [
    {
     "name": "stdout",
     "output_type": "stream",
     "text": [
      "x + x**3/6 + 3*x**5/40 + 5*x**7/112 + 35*x**9/1152 + O(x**10)\n"
     ]
    }
   ],
   "source": [
    "import sympy\n",
    "x = sympy.symbols('x')\n",
    "func = asin(x)\n",
    "x0 = 0\n",
    "print((func).series(x, x0, 10))"
   ]
  },
  {
   "cell_type": "markdown",
   "id": "f090e001-4e62-4b1a-b198-cce847784d2d",
   "metadata": {},
   "source": [
    "#### Производная (стр.102)\n",
    "##### The derivative"
   ]
  },
  {
   "cell_type": "code",
   "execution_count": 37,
   "id": "d7de93d1-7d62-4aa3-9d40-e51d38e9ae71",
   "metadata": {},
   "outputs": [
    {
     "data": {
      "text/plain": [
       "'\\nДля вычисления производных используется модуль sympy (\"символьный питон\")\\ndiff(f, x, k) k - порядок производной по переменной х (не обязательный параметр)\\n'"
      ]
     },
     "execution_count": 37,
     "metadata": {},
     "output_type": "execute_result"
    }
   ],
   "source": [
    "\"\"\"\n",
    "Для вычисления производных используется модуль sympy (\"символьный питон\")\n",
    "diff(f, x, k) k - порядок производной по переменной х (не обязательный параметр)\n",
    "\"\"\""
   ]
  },
  {
   "cell_type": "code",
   "execution_count": 38,
   "id": "7cadc1fb-2ad0-458b-a6a3-ce05f4a583c0",
   "metadata": {},
   "outputs": [
    {
     "data": {
      "text/latex": [
       "$\\displaystyle - x \\sin{\\left(x \\right)} + \\cos{\\left(x \\right)}$"
      ],
      "text/plain": [
       "-x*sin(x) + cos(x)"
      ]
     },
     "execution_count": 38,
     "metadata": {},
     "output_type": "execute_result"
    }
   ],
   "source": [
    "from sympy import *\n",
    "x = symbols('x')\n",
    "y = x*cos(x)\n",
    "diff(x*cos(x), x)"
   ]
  },
  {
   "cell_type": "code",
   "execution_count": 39,
   "id": "4d55291c-1ee7-4bdb-831d-2935ee3593ad",
   "metadata": {},
   "outputs": [
    {
     "data": {
      "text/latex": [
       "$\\displaystyle x \\sin{\\left(x \\right)} - 3 \\cos{\\left(x \\right)}$"
      ],
      "text/plain": [
       "x*sin(x) - 3*cos(x)"
      ]
     },
     "execution_count": 39,
     "metadata": {},
     "output_type": "execute_result"
    }
   ],
   "source": [
    "# Производная 3-го порядка\n",
    "diff(x*cos(x), x, 3)"
   ]
  },
  {
   "cell_type": "code",
   "execution_count": 40,
   "id": "f3113614-a523-43f0-b226-9a56ceb99a58",
   "metadata": {},
   "outputs": [
    {
     "data": {
      "text/latex": [
       "$\\displaystyle \\frac{2}{x^{3}}$"
      ],
      "text/plain": [
       "2/x**3"
      ]
     },
     "execution_count": 40,
     "metadata": {},
     "output_type": "execute_result"
    }
   ],
   "source": [
    "diff(log(x), x, 3)"
   ]
  },
  {
   "cell_type": "code",
   "execution_count": 41,
   "id": "e6b97d52-4183-4456-a8c6-79105027162c",
   "metadata": {},
   "outputs": [
    {
     "data": {
      "text/latex": [
       "$\\displaystyle \\frac{2}{x^{3}}$"
      ],
      "text/plain": [
       "2/x**3"
      ]
     },
     "execution_count": 41,
     "metadata": {},
     "output_type": "execute_result"
    }
   ],
   "source": [
    "# Или так \n",
    "diff(log(x), x, x, x) # Три раза по переменной х"
   ]
  },
  {
   "cell_type": "code",
   "execution_count": 42,
   "id": "712f207a-b4c0-4dca-8da9-760c4ddd72d3",
   "metadata": {},
   "outputs": [
    {
     "data": {
      "text/latex": [
       "$\\displaystyle - \\frac{9 \\left(-6 + \\log{\\left(1000 \\right)}\\right) \\log{\\left(1000 \\right)}}{100 \\log{\\left(10 \\right)}^{3}}$"
      ],
      "text/plain": [
       "-9*(-6 + log(1000))*log(1000)/(100*log(10)**3)"
      ]
     },
     "execution_count": 42,
     "metadata": {},
     "output_type": "execute_result"
    }
   ],
   "source": [
    "y = log(x**3, 10)**3\n",
    "diff(y, x, 2).subs(x, 10)"
   ]
  },
  {
   "cell_type": "code",
   "execution_count": 43,
   "id": "c1e0da19-1ea0-4730-8df7-d78907eb5f3f",
   "metadata": {},
   "outputs": [
    {
     "data": {
      "text/latex": [
       "$\\displaystyle \\frac{81 \\left(2 - \\log{\\left(10 \\right)}\\right)}{100 \\log{\\left(10 \\right)}^{2}}$"
      ],
      "text/plain": [
       "81*(2 - log(10))/(100*log(10)**2)"
      ]
     },
     "execution_count": 43,
     "metadata": {},
     "output_type": "execute_result"
    }
   ],
   "source": [
    "# Более простое выражение применяя метод simplify\n",
    "y = log(x**3, 10)**3\n",
    "diff(y, x, 2).subs(x, 10).simplify()"
   ]
  },
  {
   "cell_type": "code",
   "execution_count": 44,
   "id": "9bfd0c7a-d2bc-436c-b7c9-7eaf30773247",
   "metadata": {},
   "outputs": [
    {
     "data": {
      "text/latex": [
       "$\\displaystyle \\frac{\\left(10 - 2 x\\right) \\left(x^{2} + x - 6\\right)}{\\left(x^{2} - 10 x + 25\\right)^{2}} + \\frac{2 x + 1}{x^{2} - 10 x + 25}$"
      ],
      "text/plain": [
       "(10 - 2*x)*(x**2 + x - 6)/(x**2 - 10*x + 25)**2 + (2*x + 1)/(x**2 - 10*x + 25)"
      ]
     },
     "execution_count": 44,
     "metadata": {},
     "output_type": "execute_result"
    }
   ],
   "source": [
    "y = (x**2 + x - 6) / (x**2 - 10*x +25)\n",
    "z = diff(y, x)\n",
    "z"
   ]
  },
  {
   "cell_type": "code",
   "execution_count": 45,
   "id": "44916a7a-4fcf-49de-b039-755aa516a73d",
   "metadata": {},
   "outputs": [
    {
     "data": {
      "text/plain": [
       "[7/11]"
      ]
     },
     "execution_count": 45,
     "metadata": {},
     "output_type": "execute_result"
    }
   ],
   "source": [
    "solve(z, x)"
   ]
  },
  {
   "cell_type": "markdown",
   "id": "8ccda1b6-4097-4eb8-8ca2-e83b0c5c6bbc",
   "metadata": {},
   "source": [
    "# Производная неявной функции \n",
    "\n",
    "idiff(eq, y, x, n=1) # вычисляет производную n-го порядка переменной у по переменной х \n",
    "в предположении, что эти переменные связаны уравнением вида eq=0)\n",
    "\n",
    "eq - уравнение, связывающее зависимую и независимую переменные, приведённое к виду с нулевой правой частью\n",
    "\n",
    "y - зависмая переменная (функция)\n",
    "\n",
    "x - независимая переменная, по которой берётся производная"
   ]
  },
  {
   "cell_type": "code",
   "execution_count": 46,
   "id": "611d067b-7d36-4f56-a171-3af51a2e3c79",
   "metadata": {},
   "outputs": [
    {
     "data": {
      "text/latex": [
       "$\\displaystyle - \\frac{x}{y}$"
      ],
      "text/plain": [
       "-x/y"
      ]
     },
     "execution_count": 46,
     "metadata": {},
     "output_type": "execute_result"
    }
   ],
   "source": [
    "from sympy import *\n",
    "x = symbols('x')\n",
    "y = symbols('y')\n",
    "f = x**2 + y**2 - 4\n",
    "idiff(f, y, x)"
   ]
  },
  {
   "cell_type": "code",
   "execution_count": 47,
   "id": "68d02f68-396a-49ca-a1a4-a7490605c07b",
   "metadata": {},
   "outputs": [
    {
     "data": {
      "text/latex": [
       "$\\displaystyle - \\frac{\\frac{x^{2}}{y^{2}} + 1}{y}$"
      ],
      "text/plain": [
       "-(x**2/y**2 + 1)/y"
      ]
     },
     "execution_count": 47,
     "metadata": {},
     "output_type": "execute_result"
    }
   ],
   "source": [
    "f = x**2 + y**2 - 4\n",
    "idiff(f, y, x, 2)"
   ]
  },
  {
   "cell_type": "code",
   "execution_count": 48,
   "id": "59732e51-c805-4be7-abfd-bceaa0492aca",
   "metadata": {},
   "outputs": [
    {
     "data": {
      "text/latex": [
       "$\\displaystyle \\frac{- x^{2} - y^{2}}{y^{3}}$"
      ],
      "text/plain": [
       "(-x**2 - y**2)/y**3"
      ]
     },
     "execution_count": 48,
     "metadata": {},
     "output_type": "execute_result"
    }
   ],
   "source": [
    "idiff(f, y, x, 2).simplify() # упростить ответ"
   ]
  },
  {
   "cell_type": "code",
   "execution_count": 49,
   "id": "1b77260b-4e39-431e-b149-c1736cc4a147",
   "metadata": {},
   "outputs": [
    {
     "data": {
      "text/latex": [
       "$\\displaystyle \\frac{\\sin{\\left(t \\right)}}{1 - \\cos{\\left(t \\right)}}$"
      ],
      "text/plain": [
       "sin(t)/(1 - cos(t))"
      ]
     },
     "execution_count": 49,
     "metadata": {},
     "output_type": "execute_result"
    }
   ],
   "source": [
    "# Производная функции, заданной в параметрической форме (стр.104) 2025-05-19\n",
    "\n",
    "from sympy import *\n",
    "x = symbols('x')\n",
    "y = symbols('y')\n",
    "t = symbols('t')\n",
    "\n",
    "x = t - sin(t)\n",
    "y = 1 - cos(t)\n",
    "'Pervaya proizvodnaya'\n",
    "y_diff = diff(y, t)/diff(x, t)\n",
    "y_diff"
   ]
  },
  {
   "cell_type": "code",
   "execution_count": 50,
   "id": "18354ef5-665f-40e4-90a3-0dea8a506eec",
   "metadata": {},
   "outputs": [
    {
     "data": {
      "text/latex": [
       "$\\displaystyle - \\frac{1}{\\left(\\cos{\\left(t \\right)} - 1\\right)^{2}}$"
      ],
      "text/plain": [
       "-1/(cos(t) - 1)**2"
      ]
     },
     "execution_count": 50,
     "metadata": {},
     "output_type": "execute_result"
    }
   ],
   "source": [
    "'Vtoraya proizvodnaya'\n",
    "y_2diff = diff(y_diff, t)/diff(x, t)\n",
    "y_2diff.simplify()"
   ]
  },
  {
   "cell_type": "code",
   "execution_count": 51,
   "id": "06c49ef4-07db-40b5-83e0-bd8cbd4e83cd",
   "metadata": {},
   "outputs": [
    {
     "data": {
      "image/png": "[encoded data removed]",
      "text/plain": [
       "<Figure size 640x480 with 1 Axes>"
      ]
     },
     "metadata": {},
     "output_type": "display_data"
    }
   ],
   "source": [
    "# Односторонняя производная\n",
    "\n",
    "\"Построим график с учётом того, что функция не существует в точке х=0\"\n",
    "import numpy as np\n",
    "import matplotlib.pyplot as plt\n",
    "%matplotlib inline\n",
    "x = np.linspace(-2, 2, 500)\n",
    "'В узкий интервал около 0 записываем значения NaN'\n",
    "x[(x>-0.01) & (x<0.01)] = np.nan\n",
    "y = np.arctan(1/x)\n",
    "plt.plot(x, y)\n",
    "plt.vlines(0, -1.6, 1.6, color = 'g', linestyles='dashed')\n",
    "plt.show()"
   ]
  },
  {
   "cell_type": "code",
   "execution_count": 52,
   "id": "ff836ee0-d2a7-4ba5-bded-a2e8363c0a2b",
   "metadata": {},
   "outputs": [
    {
     "data": {
      "text/latex": [
       "$\\displaystyle -1$"
      ],
      "text/plain": [
       "-1"
      ]
     },
     "execution_count": 52,
     "metadata": {},
     "output_type": "execute_result"
    }
   ],
   "source": [
    "from sympy import *\n",
    "x = symbols('x')\n",
    "y = symbols('y')\n",
    "\n",
    "'proizvodnaya'\n",
    "y = atan(1/x)\n",
    "z = diff(y, x)\n",
    "'znachenie proizvodnoy v tochke x=0 sleva'\n",
    "limit(z, x, 0, dir='-')"
   ]
  },
  {
   "cell_type": "code",
   "execution_count": 53,
   "id": "5010cf20-5179-4383-99d8-27078a10f5fe",
   "metadata": {},
   "outputs": [
    {
     "data": {
      "text/latex": [
       "$\\displaystyle -1$"
      ],
      "text/plain": [
       "-1"
      ]
     },
     "execution_count": 53,
     "metadata": {},
     "output_type": "execute_result"
    }
   ],
   "source": [
    "'znachenie proizvodnoy v tochke x=0 sprava'\n",
    "limit(z, x, 0, dir='+')"
   ]
  },
  {
   "cell_type": "markdown",
   "id": "a3b8f4af-0f23-469e-81d4-b9b4a37e9db8",
   "metadata": {},
   "source": [
    "2025-05-20\n",
    "#### tangent()\n",
    "##### Применение производной при исследовании функции. Уравнение касательной (стр.106) "
   ]
  },
  {
   "cell_type": "markdown",
   "id": "026d52a6-0ad4-4382-8a1c-23147647d8cc",
   "metadata": {},
   "source": [
    "Уравнение касательной\n",
    "\n",
    "y = f'(x)(x-x0) + f(x0)\n",
    "\n",
    "Коэф.наклона касательной\n",
    "\n",
    "k = f'(x0) = tgA\n",
    "\n",
    "A = arctag(f'(x0))"
   ]
  },
  {
   "cell_type": "code",
   "execution_count": 54,
   "id": "30e68ae5-71af-4bca-85e2-88d856d2009f",
   "metadata": {},
   "outputs": [],
   "source": [
    "# ссылка на страницу 20 функцию tangent()\n",
    "def tangent(y, x0):\n",
    "    y0 = y.subs(x, x0)\n",
    "    x1 = x0 + 1\n",
    "    k = diff(y, x).subs(x, x0)\n",
    "    y1 = y0 + k\n",
    "    return Line((x0, y0), (x1, y1))"
   ]
  },
  {
   "cell_type": "code",
   "execution_count": 55,
   "id": "112c0312-c301-487c-a7bb-790645b40ff2",
   "metadata": {},
   "outputs": [
    {
     "data": {
      "text/latex": [
       "$\\displaystyle - 4 x + y + 4$"
      ],
      "text/plain": [
       "-4*x + y + 4"
      ]
     },
     "execution_count": 55,
     "metadata": {},
     "output_type": "execute_result"
    }
   ],
   "source": [
    "# Провести касательную к графику функции y= x**2\n",
    "from sympy import *\n",
    "x = symbols('x')\n",
    "\n",
    "y = x**2\n",
    "x0 = 2\n",
    "'Метод equation() позволяет вывести общее уравнение прямой'\n",
    "tangent(y, x0).equation()"
   ]
  },
  {
   "cell_type": "code",
   "execution_count": 56,
   "id": "f9fdf94c-7044-4b09-90d8-e240eddd287c",
   "metadata": {},
   "outputs": [
    {
     "data": {
      "text/plain": [
       "<function matplotlib.pyplot.show(close=None, block=None)>"
      ]
     },
     "execution_count": 56,
     "metadata": {},
     "output_type": "execute_result"
    }
   ],
   "source": [
    "# Пример 8\n",
    "'Графическая иллюстрация'\n",
    "import numpy as np\n",
    "import matplotlib.pyplot as plt\n",
    "\n",
    "'График функции'\n",
    "x = np.linspace(-3, 4, 50)\n",
    "y1 = x**2\n",
    "plt.plot(x, y1, lw=2, c ='b')\n",
    "\n",
    "'График касательной'\n",
    "x = np.linspace(-1, 4, 50)\n",
    "y2 = 4*x - 4\n",
    "plt.plot(x, y2, c = 'r')\n",
    "plt.xlabel('x')\n",
    "plt.ylabel('y')\n",
    "\n",
    "'Сетка'\n",
    "plt.grid(True, linestyle = '-', color = '0.4')\n",
    "\n",
    "plt.show"
   ]
  },
  {
   "cell_type": "code",
   "execution_count": 57,
   "id": "d9ea2ae2-6a8d-4268-9edd-cee9836ff94e",
   "metadata": {},
   "outputs": [
    {
     "data": {
      "text/latex": [
       "$\\displaystyle - \\frac{x}{4} + y - 24$"
      ],
      "text/plain": [
       "-x/4 + y - 24"
      ]
     },
     "execution_count": 57,
     "metadata": {},
     "output_type": "execute_result"
    }
   ],
   "source": [
    "# Пример 9\n",
    "\"Найти уравнение касательной и нормали к графику функции в точке с абсциссой х0=64\"\n",
    "from sympy import *\n",
    "x = symbols('x')\n",
    "y = 6*(x**(1/3)) + 2*(sqrt(x))\n",
    "х0 = 64\n",
    "y0 = y.subs(x, x0)\n",
    "'Касательная'\n",
    "l = tangent(y, 64)\n",
    "l.equation()"
   ]
  },
  {
   "cell_type": "code",
   "execution_count": 58,
   "id": "a774ccbe-ac5c-44a7-a883-19d0ccbf0919",
   "metadata": {},
   "outputs": [
    {
     "data": {
      "text/latex": [
       "$\\displaystyle - x - \\frac{y}{4} + \\frac{\\sqrt{2}}{2} + \\frac{388988157484231}{100000000000000}$"
      ],
      "text/plain": [
       "-x - y/4 + sqrt(2)/2 + 388988157484231/100000000000000"
      ]
     },
     "execution_count": 58,
     "metadata": {},
     "output_type": "execute_result"
    }
   ],
   "source": [
    "'Нормаль'\n",
    "p = Point(x0, y0)\n",
    "l.perpendicular_line(p).equation()"
   ]
  },
  {
   "cell_type": "code",
   "execution_count": 59,
   "id": "432543ae-6f21-4f83-ad9e-4a8a20e87971",
   "metadata": {},
   "outputs": [
    {
     "data": {
      "text/plain": [
       "<function matplotlib.pyplot.show(close=None, block=None)>"
      ]
     },
     "execution_count": 59,
     "metadata": {},
     "output_type": "execute_result"
    }
   ],
   "source": [
    "x = np.linspace(0, 120, 50)\n",
    "y1 = 6*(x**(1/3)) + 2*(x**(1/2))\n",
    "plt.plot(x, y1, lw = 2, c = 'r')\n",
    "\n",
    "x = np.linspace(10, 120, 50) \n",
    "y2 = x/4 + 24\n",
    "plt.plot(x, y2, '--', lw = 2, c = 'b')\n",
    "\n",
    "x = np.linspace(60, 70, 50) \n",
    "y3 = 296 - x*4\n",
    "plt.plot(x, y3, '-.', lw = 2, c = 'g')\n",
    "\n",
    "plt.xlabel('x')\n",
    "plt.ylabel('y')\n",
    "plt.grid(True, linestyle = '-', color = '0.4')\n",
    "plt.axis('equal')\n",
    "plt.show"
   ]
  },
  {
   "cell_type": "markdown",
   "id": "bdb16372-0b95-4dc3-b4de-feb653f84135",
   "metadata": {},
   "source": [
    "2025-05-22 \n",
    "#### tangent_from_point() (стр.109)\n",
    "##### Рассмотрим касательную из заданной точки и касающейся кривой в некоторой неизвестной точке касания ссылка на страницу 20 функцию tangent_from_point(), которая находит уравнение касательной, выходящей из точки (х1,у1) и касается кривой f(x) в неизвестной точке (х0,у0)"
   ]
  },
  {
   "cell_type": "code",
   "execution_count": 60,
   "id": "e1112a35-20d7-4361-b293-55fd210f1cce",
   "metadata": {},
   "outputs": [],
   "source": [
    "# ссылка на страницу 20 функцию tangent_from_point()\n",
    "# tangent_from_point() возвращает уравнение касательной (в виде общего уравнения прямой),\n",
    "# проведённой из заданной точки (x1, y1) к графику заданной функции\n",
    "\n",
    "def tangent_from_point(y, x1, y1):\n",
    "    ''' у - уравнение кривой;\n",
    "    (х1, у1) - точка, через которую должна пройти касательная;\n",
    "    (х0, у0) - точка касания\n",
    "    '''\n",
    "    x, x0, y0 = symbols('x x0 y0')\n",
    "    'Производная у при х=х0'\n",
    "    y_diff = diff(y, x).subs(x, x0)\n",
    "    'Уравнение касательной'\n",
    "    y_tang = y_diff*(x - x0) + y0\n",
    "    'Кривая у(х) проходит через точку касания (х0, у0)'\n",
    "    first_eq = y.subs(x, x0) - y0\n",
    "    'Касательаня проходит через точку (х1, у1)'\n",
    "    second_eq = y_tang.subs(x, x1) - y1\n",
    "    'Решаем систему'\n",
    "    res = solve([first_eq, second_eq], [x0, y0], dict = True)\n",
    "\n",
    "    if len(res) == 1: # одна касательная\n",
    "        x01 = res[0][x0]\n",
    "        y01 = res[0][y0]\n",
    "        return sp.Line((x01, y01), (x1, y1))\n",
    "    else: # две касательных\n",
    "        x021 = res[0][x0]\n",
    "        y021 = res[0][y0]\n",
    "        x022 = res[1][x0]\n",
    "        y022 = res[1][y0]\n",
    "        return Line((x021, y021), (x1, y1)),\n",
    "        Line((x022, y022), (x1, y1))"
   ]
  },
  {
   "cell_type": "code",
   "execution_count": 65,
   "id": "5c620fdc-9922-4e6c-97dd-68b6c6070373",
   "metadata": {},
   "outputs": [
    {
     "data": {
      "text/latex": [
       "$\\displaystyle 2 x - 8 y + 8$"
      ],
      "text/plain": [
       "2*x - 8*y + 8"
      ]
     },
     "execution_count": 65,
     "metadata": {},
     "output_type": "execute_result"
    }
   ],
   "source": [
    "# Пример 10 Из точки А(-4;0) провести касательную к кривой у=корень от х\n",
    "import sympy as sp\n",
    "from sympy import *\n",
    "x1, y1, x = sp.symbols('x1, y1, x')\n",
    "x1 = -4\n",
    "y1 = 0\n",
    "y = sp.sqrt(x)\n",
    "tangent_from_point(y, x1, y1).equation()"
   ]
  },
  {
   "cell_type": "code",
   "execution_count": 78,
   "id": "3cb2fc1a-c2c7-4172-aa51-982d69e990d3",
   "metadata": {},
   "outputs": [
    {
     "data": {
      "image/png": "[encoded data removed]",
      "text/plain": [
       "<Figure size 640x480 with 1 Axes>"
      ]
     },
     "metadata": {},
     "output_type": "display_data"
    }
   ],
   "source": [
    "'Графическая иллюстарция'\n",
    "# import sympy as sp\n",
    "# from sympy import *\n",
    "# import numpy as np\n",
    "# import matplotlib.pyplot as plt\n",
    "\n",
    "x = np.linspace(0, 7, 50)\n",
    "y1 = np.sqrt(x)\n",
    "plt.plot(x, y1, lw = 2, c = 'b')\n",
    "\n",
    "x = np.linspace(-4, 7, 50)\n",
    "y2 = x/4 + 1\n",
    "plt.plot(x, y2, c = 'r')\n",
    "\n",
    "plt.xlabel('x')\n",
    "plt.ylabel('y')\n",
    "plt.grid(True, linestyle = '-', color = '0.4')\n",
    "plt.show()"
   ]
  },
  {
   "cell_type": "code",
   "execution_count": null,
   "id": "6151c88d-cc80-4932-ba65-03fe50fe105e",
   "metadata": {},
   "outputs": [],
   "source": []
  },
  {
   "cell_type": "code",
   "execution_count": null,
   "id": "2c28fada-1fb4-4940-b1c4-2bc7d26af3a2",
   "metadata": {},
   "outputs": [],
   "source": []
  },
  {
   "cell_type": "code",
   "execution_count": null,
   "id": "4a734d07-e6ef-46dc-90c0-c7e9955833f2",
   "metadata": {},
   "outputs": [],
   "source": []
  },
  {
   "cell_type": "code",
   "execution_count": null,
   "id": "772c6582-187d-4f4d-8f25-e02eff4cd8a1",
   "metadata": {},
   "outputs": [],
   "source": []
  },
  {
   "cell_type": "code",
   "execution_count": null,
   "id": "95bab87f-a2d4-49b2-a2f2-35f7b3855c63",
   "metadata": {},
   "outputs": [],
   "source": []
  },
  {
   "cell_type": "code",
   "execution_count": null,
   "id": "cfa9798d-7c9d-4325-9a7b-88b43b62924f",
   "metadata": {},
   "outputs": [],
   "source": []
  },
  {
   "cell_type": "code",
   "execution_count": null,
   "id": "726350a5-a7aa-411e-90f1-eac29c4aeef9",
   "metadata": {},
   "outputs": [],
   "source": []
  },
  {
   "cell_type": "code",
   "execution_count": null,
   "id": "7b261b2d-af27-4fd0-b465-d58afa1eef93",
   "metadata": {},
   "outputs": [],
   "source": []
  },
  {
   "cell_type": "code",
   "execution_count": null,
   "id": "7c0091a8-7977-4e4f-be31-d4dcb504bc92",
   "metadata": {},
   "outputs": [],
   "source": []
  },
  {
   "cell_type": "code",
   "execution_count": null,
   "id": "e0eebf52-39b2-49c9-a37f-051c2f75b934",
   "metadata": {},
   "outputs": [],
   "source": []
  },
  {
   "cell_type": "code",
   "execution_count": null,
   "id": "7443ee30-e6b1-4966-968d-7c25fc2eb82f",
   "metadata": {},
   "outputs": [],
   "source": []
  },
  {
   "cell_type": "code",
   "execution_count": null,
   "id": "c81d42fc-edf9-4f29-85f6-4883ea20e0f9",
   "metadata": {},
   "outputs": [],
   "source": []
  },
  {
   "cell_type": "code",
   "execution_count": null,
   "id": "caedc9ed-809e-49c0-a7aa-72ffcf74141e",
   "metadata": {},
   "outputs": [],
   "source": []
  },
  {
   "cell_type": "code",
   "execution_count": null,
   "id": "acfc212f-3a44-46d4-8d97-8bef6a713318",
   "metadata": {},
   "outputs": [],
   "source": []
  },
  {
   "cell_type": "code",
   "execution_count": null,
   "id": "365be887-269c-4f1d-a73f-364176ccbb74",
   "metadata": {},
   "outputs": [],
   "source": []
  },
  {
   "cell_type": "code",
   "execution_count": null,
   "id": "6c90b5e4-cc51-46a2-8df7-e6d273c0a492",
   "metadata": {},
   "outputs": [],
   "source": []
  }
 ],
 "metadata": {
  "kernelspec": {
   "display_name": "Python 3 (ipykernel)",
   "language": "python",
   "name": "python3"
  },
  "language_info": {
   "codemirror_mode": {
    "name": "ipython",
    "version": 3
   },
   "file_extension": ".py",
   "mimetype": "text/x-python",
   "name": "python",
   "nbconvert_exporter": "python",
   "pygments_lexer": "ipython3",
   "version": "3.12.7"
  }
 },
 "nbformat": 4,
 "nbformat_minor": 5
}
